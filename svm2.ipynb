{
 "cells": [
  {
   "cell_type": "code",
   "execution_count": 9,
   "metadata": {},
   "outputs": [
    {
     "name": "stdout",
     "output_type": "stream",
     "text": [
      "/Users/julieschult/Desktop/BiomedicalSignalProcessing/TTT23_Project\n"
     ]
    },
    {
     "name": "stderr",
     "output_type": "stream",
     "text": [
      "2023-11-06 13:11:24.395797: I tensorflow/core/platform/cpu_feature_guard.cc:182] This TensorFlow binary is optimized to use available CPU instructions in performance-critical operations.\n",
      "To enable the following instructions: AVX2 FMA, in other operations, rebuild TensorFlow with the appropriate compiler flags.\n"
     ]
    }
   ],
   "source": [
    "from sklearn import datasets\n",
    "from sklearn.model_selection import train_test_split\n",
    "from sklearn.svm import SVR\n",
    "from sklearn.multioutput import MultiOutputRegressor\n",
    "from sklearn.metrics import accuracy_score\n",
    "import csv\n",
    "import cv2 as cv\n",
    "import numpy as np\n",
    "from pathlib import Path\n",
    "import sys\n",
    "print(Path.cwd())\n",
    "sys.path.insert(0, str(Path.cwd() / \"image_normalization\"))\n",
    "from image_norm import setGrayToBlack, paddImage\n",
    "from pymage_size import get_image_size\n",
    "from tensorflow.keras.preprocessing.image import ImageDataGenerator"
   ]
  },
  {
   "cell_type": "code",
   "execution_count": null,
   "metadata": {},
   "outputs": [],
   "source": [
    "def dataaug(img):\n",
    "    datagen = ImageDataGenerator(\n",
    "        rotation_range=40,  # Randomly rotate images by up to 40 degrees\n",
    "        zoom_range=0.3,  # Zoom in/out randomly by up to 20%\n",
    "        horizontal_flip=True,  # Flip images horizontally\n",
    "        brightness_range=[0.5, 1.5]  # Adjust brightness randomly in the range [0.5, 1.5]\n",
    "    )\n",
    "    image = cv2.imread('rawdata/EXO_6_16.jpg')\n",
    "    image = cv2.cvtColor(image, cv2.COLOR_BGR2RGB)\n",
    "    image = image.reshape((1,) + image.shape)\n",
    "    # Generate augmented images\n",
    "    augmented_images = []\n",
    "    for batch in datagen.flow(image, batch_size=1):\n",
    "        augmented_images.append(batch[0])\n",
    "        if len(augmented_images) >= 3:  # Generate 3 augmented images\n",
    "            break"
   ]
  },
  {
   "cell_type": "code",
   "execution_count": 10,
   "metadata": {},
   "outputs": [],
   "source": [
    "def readImages(csvPath):\n",
    "\n",
    "    filenames = []\n",
    "    roi = []\n",
    "    max_shape = [0, 0]\n",
    "    with open(csvPath) as csv_file:\n",
    "        csv_reader = csv.reader(csv_file, delimiter=';')\n",
    "        line_count = 0\n",
    "        for row in csv_reader:\n",
    "            if line_count == 0:\n",
    "                print(f'Column names are {\", \".join(row)}')\n",
    "                line_count += 1\n",
    "            else:\n",
    "                path = Path.cwd() / row[0]\n",
    "                filenames.append(str(path))\n",
    "                img_size = get_image_size(str(path)).get_dimensions()[::-1]\n",
    "                if img_size[0] > max_shape[0]:\n",
    "                    max_shape[0] = img_size[0]\n",
    "                if img_size[1] > max_shape[1]:\n",
    "                    max_shape[1] = img_size[1]\n",
    "\n",
    "                roi.append([float(row[1]), float(row[2]), float(row[3])])\n",
    "\n",
    "    y = np.zeros((len(filenames), 3), float)\n",
    "    images = np.zeros((len(filenames), max_shape[0], max_shape[1]), dtype=np.uint8) \n",
    "    for i, filepath in enumerate(filenames):\n",
    "        img = cv.imread(str(filepath))\n",
    "        # cv.imshow(\"img1\", img)\n",
    "        img_black = setGrayToBlack(img, threshold=150)\n",
    "        # cv.imshow(\"img_gray_black\", img)\n",
    "\n",
    "        img_gray = cv.cvtColor(img_black, cv.COLOR_BGR2GRAY)\n",
    "        # cv.imshow(\"img_gray\", img)\n",
    "        cv.imwrite('test.jpg', img_gray)\n",
    "        img_pad = paddImage(img_gray, max_shape)\n",
    "        # cv.imshow(\"pad\", img)\n",
    "        images[i] = img_pad\n",
    "        y[i] = np.array(roi[i])\n",
    "    \n",
    "    return images, y\n",
    "\n",
    "\n",
    "\n",
    "def normalizeY(y):\n",
    "    return (y-np.amin(y))/(np.amax(y) - np.amin(y))"
   ]
  },
  {
   "cell_type": "code",
   "execution_count": 11,
   "metadata": {},
   "outputs": [
    {
     "name": "stdout",
     "output_type": "stream",
     "text": [
      "Column names are ﻿path, ROI1, ROI2, ROI3\n"
     ]
    }
   ],
   "source": [
    "images, y = readImages(r\"Rawdata_values.csv\")\n",
    "y = normalizeY(y)\n",
    "X = images.reshape((images.shape[0], images.shape[1]*images.shape[2])) # Flatten images"
   ]
  },
  {
   "cell_type": "code",
   "execution_count": 4,
   "metadata": {},
   "outputs": [],
   "source": [
    "def mse(y_pred, y_test):\n",
    "    MSEs = [0, 0, 0]\n",
    "    n = len(y_pred)\n",
    "    for idx, i in enumerate(y_pred):\n",
    "        for idx2, j in enumerate(i):\n",
    "            MSEs[idx2] += (j - y_test[idx][idx2])**2\n",
    "    for idx3, _ in enumerate(MSEs):\n",
    "        MSEs[idx3] = MSEs[idx3] / n\n",
    "    return MSEs\n",
    "\n",
    "def mae(y_pred, y_test):\n",
    "    MAEs = [0, 0, 0]\n",
    "    n = len(y_pred)\n",
    "    for idx, i in enumerate(y_pred):\n",
    "        for idx2, j in enumerate(i):\n",
    "            MAEs[idx2] += abs(j - y_test[idx][idx2])\n",
    "    for idx3, _ in enumerate(MAEs):\n",
    "        MAEs[idx3] = MAEs[idx3] / n\n",
    "    return MAEs"
   ]
  },
  {
   "cell_type": "code",
   "execution_count": 5,
   "metadata": {},
   "outputs": [
    {
     "name": "stdout",
     "output_type": "stream",
     "text": [
      "21 4 2\n"
     ]
    }
   ],
   "source": [
    "X_train, X_temp, y_train, y_temp = train_test_split(X, y, test_size=0.2, random_state=42)\n",
    "X_val, X_test, y_val, y_test = train_test_split(X_temp, y_temp, test_size=1/3, random_state=42)\n",
    "print(len(X_train), len(X_val), len(X_test))"
   ]
  },
  {
   "cell_type": "code",
   "execution_count": 6,
   "metadata": {},
   "outputs": [],
   "source": [
    "#svm = SVR(kernel='linear', C=1.0)\n",
    "#reg = MultiOutputRegressor(svm)\n",
    "#reg.fit(X_train, y_train)"
   ]
  },
  {
   "cell_type": "code",
   "execution_count": 7,
   "metadata": {},
   "outputs": [
    {
     "name": "stdout",
     "output_type": "stream",
     "text": [
      "New best MSE of 0.048854610978776136\n",
      "Early stopping at epoch 5\n"
     ]
    }
   ],
   "source": [
    "best_performance = 0\n",
    "patience = 5  # Number of epochs with no improvement after which training will be stopped\n",
    "no_improvement_count = 0\n",
    "num_epochs = 100\n",
    "\n",
    "svm = SVR(kernel='linear', C=10.0)\n",
    "reg = MultiOutputRegressor(svm)\n",
    "\n",
    "for epoch in range(num_epochs):\n",
    "    # Train the SVM on the training data\n",
    "    reg.fit(X_train, y_train)\n",
    "    # Evaluate performance on the validation set\n",
    "    y_pred = reg.predict(X_val)\n",
    "    MSEs = mse(y_pred, y_val)\n",
    "    current_performance = np.mean(MSEs)\n",
    "\n",
    "    if current_performance > best_performance:\n",
    "        print(f'New best MSE of {current_performance}')\n",
    "        best_performance = current_performance\n",
    "        no_improvement_count = 0\n",
    "    else:\n",
    "        no_improvement_count += 1\n",
    "\n",
    "        if no_improvement_count >= patience:\n",
    "            print(f'Early stopping at epoch {epoch}')\n",
    "            break\n"
   ]
  },
  {
   "cell_type": "code",
   "execution_count": 8,
   "metadata": {},
   "outputs": [
    {
     "name": "stdout",
     "output_type": "stream",
     "text": [
      "IMAGE 1:\n",
      "\t ROI1: real 0.12540799442893116, pred 0.23468414624257578.\n",
      "\t ROI2: real 0.095112566022786, pred 0.062318792898532246.\n",
      "\t ROI3: real 0.026375528970517478, pred 0.021089422234651118.\n",
      "IMAGE 2:\n",
      "\t ROI1: real 0.027581862771305157, pred 0.1669832212019993.\n",
      "\t ROI2: real 0.01077543959214951, pred 0.062318792898532246.\n",
      "\t ROI3: real 0.0, pred 0.021089422234651118.\n",
      "MSEs: [0.015687008043760782, 0.0018660744128958123, 0.00023635332730718433]\n",
      "Mean MSE: 0.005929811927987926\n"
     ]
    }
   ],
   "source": [
    "y_pred = reg.predict(X_test)\n",
    "\n",
    "\n",
    "for idx, i in enumerate(y_pred):\n",
    "    print(f'IMAGE {idx+1}:')\n",
    "    for idx2, j in enumerate(i):\n",
    "        print(f'\\t ROI{idx2+1}: real {y_test[idx][idx2]}, pred {j}.')\n",
    "        \n",
    "MSEs = mse(y_pred, y_test)\n",
    "print(f'MSEs: {MSEs}')\n",
    "print(f'Mean MSE: {np.mean(MSEs)}')"
   ]
  }
 ],
 "metadata": {
  "kernelspec": {
   "display_name": "malis",
   "language": "python",
   "name": "python3"
  },
  "language_info": {
   "codemirror_mode": {
    "name": "ipython",
    "version": 3
   },
   "file_extension": ".py",
   "mimetype": "text/x-python",
   "name": "python",
   "nbconvert_exporter": "python",
   "pygments_lexer": "ipython3",
   "version": "3.8.13"
  },
  "orig_nbformat": 4
 },
 "nbformat": 4,
 "nbformat_minor": 2
}
