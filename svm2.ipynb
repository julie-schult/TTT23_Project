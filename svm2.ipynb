{
 "cells": [
  {
   "cell_type": "code",
   "execution_count": 2,
   "metadata": {},
   "outputs": [
    {
     "name": "stdout",
     "output_type": "stream",
     "text": [
      "/Users/julieschult/Desktop/BiomedicalSignalProcessing/TTT23_Project\n"
     ]
    }
   ],
   "source": [
    "from sklearn import datasets\n",
    "from sklearn.model_selection import train_test_split\n",
    "from sklearn.svm import SVR\n",
    "from sklearn.multioutput import MultiOutputRegressor\n",
    "from sklearn.metrics import accuracy_score\n",
    "import csv\n",
    "import cv2 as cv\n",
    "import numpy as np\n",
    "from pathlib import Path\n",
    "import sys\n",
    "print(Path.cwd())\n",
    "sys.path.insert(0, str(Path.cwd() / \"image_normalization\"))\n",
    "from image_norm import setGrayToBlack, paddImage\n",
    "from pymage_size import get_image_size"
   ]
  },
  {
   "cell_type": "code",
   "execution_count": 5,
   "metadata": {},
   "outputs": [],
   "source": [
    "def readImages(csvPath):\n",
    "\n",
    "    filenames = []\n",
    "    roi = []\n",
    "    max_shape = [0, 0]\n",
    "    with open(csvPath) as csv_file:\n",
    "        csv_reader = csv.reader(csv_file, delimiter=',')\n",
    "        line_count = 0\n",
    "        for row in csv_reader:\n",
    "            if line_count == 0:\n",
    "                print(f'Column names are {\", \".join(row)}')\n",
    "                line_count += 1\n",
    "            else:\n",
    "                path = Path.cwd() / row[0]\n",
    "                filenames.append(str(path))\n",
    "                img_size = get_image_size(str(path)).get_dimensions()[::-1]\n",
    "                if img_size[0] > max_shape[0]:\n",
    "                    max_shape[0] = img_size[0]\n",
    "                if img_size[1] > max_shape[1]:\n",
    "                    max_shape[1] = img_size[1]\n",
    "\n",
    "                roi.append([float(row[1]), float(row[2]), float(row[3])])\n",
    "\n",
    "    y = np.zeros((len(filenames), 3), float)\n",
    "    images = np.zeros((len(filenames), max_shape[0], max_shape[1]), dtype=np.uint8) \n",
    "    for i, filepath in enumerate(filenames):\n",
    "        img = cv.imread(str(filepath))\n",
    "        # cv.imshow(\"img1\", img)\n",
    "        img_black = setGrayToBlack(img, threshold=150)\n",
    "        # cv.imshow(\"img_gray_black\", img)\n",
    "        img_gray = cv.cvtColor(img_black, cv.COLOR_BGR2GRAY)\n",
    "        # cv.imshow(\"img_gray\", img)\n",
    "        img_pad = paddImage(img_gray, max_shape)\n",
    "        # cv.imshow(\"pad\", img)\n",
    "        images[i] = img_pad\n",
    "        y[i] = np.array(roi[i])\n",
    "    \n",
    "    return images, y\n",
    "\n",
    "\n",
    "\n",
    "def normalizeY(y):\n",
    "    return (y-np.amin(y))/(np.amax(y) - np.amin(y))"
   ]
  },
  {
   "cell_type": "code",
   "execution_count": 6,
   "metadata": {},
   "outputs": [
    {
     "name": "stdout",
     "output_type": "stream",
     "text": [
      "Column names are path, body, head, lung\n"
     ]
    }
   ],
   "source": [
    "images, y = readImages(r\"data.csv\")\n",
    "y = normalizeY(y)\n",
    "X = images.reshape((images.shape[0], images.shape[1]*images.shape[2])) # Flatten images"
   ]
  },
  {
   "cell_type": "code",
   "execution_count": 7,
   "metadata": {},
   "outputs": [],
   "source": [
    "def mse(y_pred, y_test):\n",
    "    MSEs = [0, 0, 0]\n",
    "    n = len(y_pred)\n",
    "    for idx, i in enumerate(y_pred):\n",
    "        for idx2, j in enumerate(i):\n",
    "            MSEs[idx2] += (j - y_test[idx][idx2])**2\n",
    "    for idx3, _ in enumerate(MSEs):\n",
    "        MSEs[idx3] = MSEs[idx3] / n\n",
    "    return MSEs\n",
    "\n",
    "def mae(y_pred, y_test):\n",
    "    MAEs = [0, 0, 0]\n",
    "    n = len(y_pred)\n",
    "    for idx, i in enumerate(y_pred):\n",
    "        for idx2, j in enumerate(i):\n",
    "            MAEs[idx2] += abs(j - y_test[idx][idx2])\n",
    "    for idx3, _ in enumerate(MAEs):\n",
    "        MAEs[idx3] = MAEs[idx3] / n\n",
    "    return MAEs"
   ]
  },
  {
   "cell_type": "code",
   "execution_count": 8,
   "metadata": {},
   "outputs": [
    {
     "name": "stdout",
     "output_type": "stream",
     "text": [
      "64 11 6\n"
     ]
    }
   ],
   "source": [
    "X_train, X_temp, y_train, y_temp = train_test_split(X, y, test_size=0.2, random_state=42)\n",
    "X_val, X_test, y_val, y_test = train_test_split(X_temp, y_temp, test_size=1/3, random_state=42)\n",
    "print(len(X_train), len(X_val), len(X_test))"
   ]
  },
  {
   "cell_type": "code",
   "execution_count": 6,
   "metadata": {},
   "outputs": [],
   "source": [
    "#svm = SVR(kernel='linear', C=1.0)\n",
    "#reg = MultiOutputRegressor(svm)\n",
    "#reg.fit(X_train, y_train)"
   ]
  },
  {
   "cell_type": "code",
   "execution_count": 12,
   "metadata": {},
   "outputs": [
    {
     "name": "stdout",
     "output_type": "stream",
     "text": [
      "New best MSE of 0.01140047610824014\n",
      "Early stopping at epoch 5\n"
     ]
    }
   ],
   "source": [
    "best_performance = 0\n",
    "patience = 5  # Number of epochs with no improvement after which training will be stopped\n",
    "no_improvement_count = 0\n",
    "num_epochs = 100\n",
    "\n",
    "svm = SVR(kernel='linear', C=5.0)\n",
    "reg = MultiOutputRegressor(svm)\n",
    "\n",
    "for epoch in range(num_epochs):\n",
    "    # Train the SVM on the training data\n",
    "    reg.fit(X_train, y_train)\n",
    "    # Evaluate performance on the validation set\n",
    "    y_pred = reg.predict(X_val)\n",
    "    MSEs = mse(y_pred, y_val)\n",
    "    current_performance = np.mean(MSEs)\n",
    "\n",
    "    if current_performance > best_performance:\n",
    "        print(f'New best MSE of {current_performance}')\n",
    "        best_performance = current_performance\n",
    "        no_improvement_count = 0\n",
    "    else:\n",
    "        no_improvement_count += 1\n",
    "\n",
    "        if no_improvement_count >= patience:\n",
    "            print(f'Early stopping at epoch {epoch}')\n",
    "            break\n"
   ]
  },
  {
   "cell_type": "code",
   "execution_count": 10,
   "metadata": {},
   "outputs": [
    {
     "name": "stdout",
     "output_type": "stream",
     "text": [
      "IMAGE 1:\n",
      "\t ROI1: real 0.10810121688922154, pred 0.2374752254048472.\n",
      "\t ROI2: real 0.07921089319422112, pred 0.062318792898532246.\n",
      "\t ROI3: real 0.02941535306511598, pred 0.11724596818097083.\n",
      "IMAGE 2:\n",
      "\t ROI1: real 1.0, pred 0.7367290278181411.\n",
      "\t ROI2: real 0.052650987068924154, pred 0.062318792898532246.\n",
      "\t ROI3: real 0.23665116253565882, pred 0.13167996967030332.\n",
      "IMAGE 3:\n",
      "\t ROI1: real 0.08794995908060914, pred 0.4358944689193346.\n",
      "\t ROI2: real 0.06125296956885904, pred 0.062318792898532246.\n",
      "\t ROI3: real 0.022982715155802122, pred 0.12041957023112786.\n",
      "IMAGE 4:\n",
      "\t ROI1: real 0.018517223842090907, pred 0.06909224519558617.\n",
      "\t ROI2: real 0.008482719953720649, pred 0.062318792898532246.\n",
      "\t ROI3: real 0.0010085910158290187, pred 0.09141930584414318.\n",
      "IMAGE 5:\n",
      "\t ROI1: real 0.06173276142144505, pred 0.24206014954607394.\n",
      "\t ROI2: real 0.023390538230500232, pred 0.062318792898532246.\n",
      "\t ROI3: real 0.007177000697754437, pred 0.10623215169692773.\n",
      "IMAGE 6:\n",
      "\t ROI1: real 0.08404308256669449, pred -0.2020942719507954.\n",
      "\t ROI2: real 0.06697620095327787, pred 0.062318792898532246.\n",
      "\t ROI3: real 0.019881203537299705, pred 0.0879589547741747.\n",
      "MSEs: [0.05401083435715299, 0.0008025614521225555, 0.00847461825314679]\n",
      "Mean MSE: 0.02109600468747411\n"
     ]
    }
   ],
   "source": [
    "y_pred = reg.predict(X_test)\n",
    "\n",
    "\n",
    "for idx, i in enumerate(y_pred):\n",
    "    print(f'IMAGE {idx+1}:')\n",
    "    for idx2, j in enumerate(i):\n",
    "        print(f'\\t ROI{idx2+1}: real {y_test[idx][idx2]}, pred {j}.')\n",
    "        \n",
    "MSEs = mse(y_pred, y_test)\n",
    "print(f'MSEs: {MSEs}')\n",
    "print(f'Mean MSE: {np.mean(MSEs)}')"
   ]
  }
 ],
 "metadata": {
  "kernelspec": {
   "display_name": "malis",
   "language": "python",
   "name": "python3"
  },
  "language_info": {
   "codemirror_mode": {
    "name": "ipython",
    "version": 3
   },
   "file_extension": ".py",
   "mimetype": "text/x-python",
   "name": "python",
   "nbconvert_exporter": "python",
   "pygments_lexer": "ipython3",
   "version": "3.8.13"
  },
  "orig_nbformat": 4
 },
 "nbformat": 4,
 "nbformat_minor": 2
}
