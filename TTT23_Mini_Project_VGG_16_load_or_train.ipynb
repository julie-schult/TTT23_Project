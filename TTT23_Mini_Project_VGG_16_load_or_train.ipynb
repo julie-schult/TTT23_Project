{
  "cells": [
    {
      "cell_type": "markdown",
      "metadata": {
        "id": "j_RhvLlxPiVa"
      },
      "source": [
        "# Denne seksjonen inneholder de første stegene som skal til for å bygge maskinlæringsmodellen"
      ]
    },
    {
      "cell_type": "markdown",
      "metadata": {
        "id": "gKS4i_DcH83u"
      },
      "source": [
        "Vi flytter oss inn i TTT23Prosjekt-mappen på google drive"
      ]
    },
    {
      "cell_type": "code",
      "execution_count": null,
      "metadata": {
        "colab": {
          "base_uri": "https://localhost:8080/"
        },
        "id": "bmTsxifhf0Lz",
        "outputId": "11da54ea-e901-46bf-8681-064256d79b01"
      },
      "outputs": [
        {
          "name": "stdout",
          "output_type": "stream",
          "text": [
            "Drive already mounted at /gdrive; to attempt to forcibly remount, call drive.mount(\"/gdrive\", force_remount=True).\n",
            "[Errno 2] No such file or directory: '/gdrive/My Drive/TTT23Prosjekt'\n",
            "/content\n"
          ]
        }
      ],
      "source": [
        "from google.colab import drive\n",
        "drive.mount('/gdrive')\n",
        "%cd /gdrive/My Drive/TTT23Prosjekt"
      ]
    },
    {
      "cell_type": "markdown",
      "metadata": {
        "id": "rI1G6fDvIC4E"
      },
      "source": [
        "Laster ned en pakke vi trenger"
      ]
    },
    {
      "cell_type": "code",
      "execution_count": null,
      "metadata": {
        "colab": {
          "base_uri": "https://localhost:8080/"
        },
        "id": "8tbIlbtwgAvH",
        "outputId": "65423f6f-92fd-4345-bfef-c29190cdc2d8"
      },
      "outputs": [
        {
          "name": "stdout",
          "output_type": "stream",
          "text": [
            "Requirement already satisfied: keras_cv in /usr/local/lib/python3.10/dist-packages (0.6.4)\n",
            "Requirement already satisfied: packaging in /usr/local/lib/python3.10/dist-packages (from keras_cv) (23.2)\n",
            "Requirement already satisfied: absl-py in /usr/local/lib/python3.10/dist-packages (from keras_cv) (1.4.0)\n",
            "Requirement already satisfied: regex in /usr/local/lib/python3.10/dist-packages (from keras_cv) (2023.6.3)\n",
            "Requirement already satisfied: tensorflow-datasets in /usr/local/lib/python3.10/dist-packages (from keras_cv) (4.9.3)\n",
            "Requirement already satisfied: keras-core in /usr/local/lib/python3.10/dist-packages (from keras_cv) (0.1.7)\n",
            "Requirement already satisfied: numpy in /usr/local/lib/python3.10/dist-packages (from keras-core->keras_cv) (1.23.5)\n",
            "Requirement already satisfied: rich in /usr/local/lib/python3.10/dist-packages (from keras-core->keras_cv) (13.7.0)\n",
            "Requirement already satisfied: namex in /usr/local/lib/python3.10/dist-packages (from keras-core->keras_cv) (0.0.7)\n",
            "Requirement already satisfied: h5py in /usr/local/lib/python3.10/dist-packages (from keras-core->keras_cv) (3.9.0)\n",
            "Requirement already satisfied: dm-tree in /usr/local/lib/python3.10/dist-packages (from keras-core->keras_cv) (0.1.8)\n",
            "Requirement already satisfied: array-record in /usr/local/lib/python3.10/dist-packages (from tensorflow-datasets->keras_cv) (0.5.0)\n",
            "Requirement already satisfied: click in /usr/local/lib/python3.10/dist-packages (from tensorflow-datasets->keras_cv) (8.1.7)\n",
            "Requirement already satisfied: etils[enp,epath,etree]>=0.9.0 in /usr/local/lib/python3.10/dist-packages (from tensorflow-datasets->keras_cv) (1.5.2)\n",
            "Requirement already satisfied: promise in /usr/local/lib/python3.10/dist-packages (from tensorflow-datasets->keras_cv) (2.3)\n",
            "Requirement already satisfied: protobuf>=3.20 in /usr/local/lib/python3.10/dist-packages (from tensorflow-datasets->keras_cv) (3.20.3)\n",
            "Requirement already satisfied: psutil in /usr/local/lib/python3.10/dist-packages (from tensorflow-datasets->keras_cv) (5.9.5)\n",
            "Requirement already satisfied: requests>=2.19.0 in /usr/local/lib/python3.10/dist-packages (from tensorflow-datasets->keras_cv) (2.31.0)\n",
            "Requirement already satisfied: tensorflow-metadata in /usr/local/lib/python3.10/dist-packages (from tensorflow-datasets->keras_cv) (1.14.0)\n",
            "Requirement already satisfied: termcolor in /usr/local/lib/python3.10/dist-packages (from tensorflow-datasets->keras_cv) (2.3.0)\n",
            "Requirement already satisfied: toml in /usr/local/lib/python3.10/dist-packages (from tensorflow-datasets->keras_cv) (0.10.2)\n",
            "Requirement already satisfied: tqdm in /usr/local/lib/python3.10/dist-packages (from tensorflow-datasets->keras_cv) (4.66.1)\n",
            "Requirement already satisfied: wrapt in /usr/local/lib/python3.10/dist-packages (from tensorflow-datasets->keras_cv) (1.14.1)\n",
            "Requirement already satisfied: fsspec in /usr/local/lib/python3.10/dist-packages (from etils[enp,epath,etree]>=0.9.0->tensorflow-datasets->keras_cv) (2023.6.0)\n",
            "Requirement already satisfied: importlib_resources in /usr/local/lib/python3.10/dist-packages (from etils[enp,epath,etree]>=0.9.0->tensorflow-datasets->keras_cv) (6.1.1)\n",
            "Requirement already satisfied: typing_extensions in /usr/local/lib/python3.10/dist-packages (from etils[enp,epath,etree]>=0.9.0->tensorflow-datasets->keras_cv) (4.5.0)\n",
            "Requirement already satisfied: zipp in /usr/local/lib/python3.10/dist-packages (from etils[enp,epath,etree]>=0.9.0->tensorflow-datasets->keras_cv) (3.17.0)\n",
            "Requirement already satisfied: charset-normalizer<4,>=2 in /usr/local/lib/python3.10/dist-packages (from requests>=2.19.0->tensorflow-datasets->keras_cv) (3.3.2)\n",
            "Requirement already satisfied: idna<4,>=2.5 in /usr/local/lib/python3.10/dist-packages (from requests>=2.19.0->tensorflow-datasets->keras_cv) (3.4)\n",
            "Requirement already satisfied: urllib3<3,>=1.21.1 in /usr/local/lib/python3.10/dist-packages (from requests>=2.19.0->tensorflow-datasets->keras_cv) (2.0.7)\n",
            "Requirement already satisfied: certifi>=2017.4.17 in /usr/local/lib/python3.10/dist-packages (from requests>=2.19.0->tensorflow-datasets->keras_cv) (2023.7.22)\n",
            "Requirement already satisfied: six in /usr/local/lib/python3.10/dist-packages (from promise->tensorflow-datasets->keras_cv) (1.16.0)\n",
            "Requirement already satisfied: markdown-it-py>=2.2.0 in /usr/local/lib/python3.10/dist-packages (from rich->keras-core->keras_cv) (3.0.0)\n",
            "Requirement already satisfied: pygments<3.0.0,>=2.13.0 in /usr/local/lib/python3.10/dist-packages (from rich->keras-core->keras_cv) (2.16.1)\n",
            "Requirement already satisfied: googleapis-common-protos<2,>=1.52.0 in /usr/local/lib/python3.10/dist-packages (from tensorflow-metadata->tensorflow-datasets->keras_cv) (1.61.0)\n",
            "Requirement already satisfied: mdurl~=0.1 in /usr/local/lib/python3.10/dist-packages (from markdown-it-py>=2.2.0->rich->keras-core->keras_cv) (0.1.2)\n"
          ]
        }
      ],
      "source": [
        "!pip install keras_cv"
      ]
    },
    {
      "cell_type": "markdown",
      "metadata": {
        "id": "ogcBFQqgIFtp"
      },
      "source": [
        "Her importerer vi mange vanlige biblioteker som trengs til å drive med maskinlæring. Iløpet av prosjektet har noen av bibliotekene blitt tatt i bruk og senere kanskje droppet. Vi lar bare import av bibliotekene stå for nå siden det går fint å importere noen ekstra."
      ]
    },
    {
      "cell_type": "code",
      "execution_count": null,
      "metadata": {
        "id": "nsEx7FdmgBGm"
      },
      "outputs": [],
      "source": [
        "#Libraries\n",
        "import PIL # image processing and visualization\n",
        "import tensorflow as tf # the AI library\n",
        "import numpy as np\n",
        "import os\n",
        "import random\n",
        "import pandas as pd\n",
        "import seaborn as sns\n",
        "import matplotlib as mpl\n",
        "import matplotlib.pyplot as plt\n",
        "import warnings\n",
        "import keras_cv\n",
        "from keras import Input\n",
        "from keras.models import Model\n",
        "from keras.optimizers import Adam\n",
        "from keras.applications.vgg16 import VGG16, preprocess_input\n",
        "from keras.preprocessing.image import ImageDataGenerator\n",
        "from keras.callbacks import ModelCheckpoint, EarlyStopping\n",
        "from keras.layers import Dense, Dropout, Flatten\n",
        "from pathlib import Path\n",
        "from keras.applications.vgg16 import VGG16\n",
        "from sklearn.metrics import accuracy_score, f1_score, precision_score, recall_score\n",
        "from sklearn.metrics import confusion_matrix\n",
        "\n",
        "warnings.filterwarnings(\"ignore\")\n",
        "tfk = tf.keras\n",
        "tfkl = tf.keras.layers"
      ]
    },
    {
      "cell_type": "markdown",
      "metadata": {
        "id": "FpYFt4ZPIVC9"
      },
      "source": [
        "Vi setter random seed så vi får akkurat samme resultater om vi kjører koden igjen på en ny pc."
      ]
    },
    {
      "cell_type": "code",
      "execution_count": null,
      "metadata": {
        "id": "zC2f2S8EgFyo"
      },
      "outputs": [],
      "source": [
        "seed = 42\n",
        "\n",
        "random.seed(seed)\n",
        "os.environ['PYTHONHASHSEED'] = str(seed)\n",
        "np.random.seed(seed)\n",
        "tf.random.set_seed(seed)\n",
        "tf.compat.v1.set_random_seed(seed)"
      ]
    },
    {
      "cell_type": "markdown",
      "metadata": {
        "id": "YYsfho88OfR6"
      },
      "source": [
        "# Hjelpefunksjoner"
      ]
    },
    {
      "cell_type": "markdown",
      "metadata": {
        "id": "ZF-SnSt0IcEY"
      },
      "source": [
        "Hjelpefunksjoner skrevet av Sondre som brukes til å lese inn bildene. Kun padde funksjonen brukes. Den legger til litt ekstra rom rundt bildene. Sånn at alle bildene får samme høyde og bredde om de ikke allerede har det."
      ]
    },
    {
      "cell_type": "code",
      "execution_count": null,
      "metadata": {
        "id": "ejAQiZCBgKH9"
      },
      "outputs": [],
      "source": [
        "\n",
        "import cv2 as cv\n",
        "import numpy as np\n",
        "def paddImage(img, new_shape):\n",
        "    \"\"\"\n",
        "    Cuts or pads the image with zeros to fit the shape new_shape\n",
        "\n",
        "    img: np grayscale image\n",
        "    new_shape: tuple with two values (height, width)\n",
        "\n",
        "    return: an image with size new_shape\n",
        "    \"\"\"\n",
        "    if img.shape[0] > new_shape[0]:\n",
        "        img = img[:new_shape[0]]\n",
        "    if img.shape[1] > new_shape[1]:\n",
        "        img = img[:, :new_shape[1]]\n",
        "\n",
        "    bottom = new_shape[0] - img.shape[0]\n",
        "    right = new_shape[1] - img.shape[1]\n",
        "\n",
        "    return cv.copyMakeBorder(img, 0, bottom, 0, right, cv.BORDER_CONSTANT)\n",
        "\n",
        "def setGrayToBlack(img, threshold=150):\n",
        "    \"\"\"\n",
        "    Sets the gray values of img to black.\n",
        "\n",
        "    img: Needs to be a bgr numpy array\n",
        "    threshold: value between 0-255, saturation values under this value gets set to black\n",
        "    \"\"\"\n",
        "\n",
        "    h, s, v = cv.split(cv.cvtColor(img, cv.COLOR_BGR2HSV)) #Convert image to hsv\n",
        "    gray_mask = s < threshold # Set a binary mask where saturation is under threshold\n",
        "    v[gray_mask] = 0 # Set the value to 0 (set to black) where the mask is True\n",
        "    out_image = cv.cvtColor(cv.merge((h, s, v)), cv.COLOR_HSV2BGR) #Convert back to bgr\n",
        "    return out_image\n",
        "\n",
        "\n",
        "\n"
      ]
    },
    {
      "cell_type": "markdown",
      "metadata": {
        "id": "llt4YYFJIxAX"
      },
      "source": [
        "Laster ned enda en pakke."
      ]
    },
    {
      "cell_type": "code",
      "execution_count": null,
      "metadata": {
        "colab": {
          "background_save": true
        },
        "id": "MVt0RmsmgMYt",
        "outputId": "5844d32a-8fc4-4274-8442-03013623b17e"
      },
      "outputs": [
        {
          "name": "stdout",
          "output_type": "stream",
          "text": [
            "Requirement already satisfied: pymage_size in /usr/local/lib/python3.10/dist-packages (1.7.1)\n"
          ]
        }
      ],
      "source": [
        "pip install pymage_size"
      ]
    },
    {
      "cell_type": "markdown",
      "metadata": {
        "id": "veeot-S9OkKB"
      },
      "source": [
        "# Innhenting av bilder fra fil"
      ]
    },
    {
      "cell_type": "markdown",
      "metadata": {
        "id": "SbRJHlwXIzUA"
      },
      "source": [
        "Her har vi Sondres funksjon for å laste inn bilder. Den henter alle bildene inn i images og alle roi-vektorene [body nohead lung] inn i labels. Husk at X er bilder og Y er roi-verdier."
      ]
    },
    {
      "cell_type": "code",
      "execution_count": null,
      "metadata": {
        "colab": {
          "base_uri": "https://localhost:8080/",
          "height": 361
        },
        "id": "iUTPyQtZgORf",
        "outputId": "83edb1d9-6ed8-436d-d63c-90fb18d45e31"
      },
      "outputs": [
        {
          "ename": "FileNotFoundError",
          "evalue": "ignored",
          "output_type": "error",
          "traceback": [
            "\u001b[0;31m---------------------------------------------------------------------------\u001b[0m",
            "\u001b[0;31mFileNotFoundError\u001b[0m                         Traceback (most recent call last)",
            "\u001b[0;32m<ipython-input-7-572aa1256421>\u001b[0m in \u001b[0;36m<cell line: 48>\u001b[0;34m()\u001b[0m\n\u001b[1;32m     46\u001b[0m     \u001b[0;32mreturn\u001b[0m \u001b[0mimages\u001b[0m\u001b[0;34m,\u001b[0m \u001b[0my\u001b[0m\u001b[0;34m\u001b[0m\u001b[0;34m\u001b[0m\u001b[0m\n\u001b[1;32m     47\u001b[0m \u001b[0;34m\u001b[0m\u001b[0m\n\u001b[0;32m---> 48\u001b[0;31m \u001b[0mimages\u001b[0m\u001b[0;34m,\u001b[0m \u001b[0my\u001b[0m \u001b[0;34m=\u001b[0m \u001b[0mreadImages\u001b[0m\u001b[0;34m(\u001b[0m\u001b[0;34mr\"Rawdata_values.csv\"\u001b[0m\u001b[0;34m)\u001b[0m\u001b[0;34m\u001b[0m\u001b[0;34m\u001b[0m\u001b[0m\n\u001b[0m\u001b[1;32m     49\u001b[0m \u001b[0mimagesClean\u001b[0m \u001b[0;34m=\u001b[0m \u001b[0mimages\u001b[0m\u001b[0;34m\u001b[0m\u001b[0;34m\u001b[0m\u001b[0m\n\u001b[1;32m     50\u001b[0m \u001b[0mval_images\u001b[0m \u001b[0;34m=\u001b[0m \u001b[0mimagesClean\u001b[0m\u001b[0;34m[\u001b[0m\u001b[0;34m-\u001b[0m\u001b[0;36m5\u001b[0m\u001b[0;34m:\u001b[0m\u001b[0;34m]\u001b[0m\u001b[0;34m\u001b[0m\u001b[0;34m\u001b[0m\u001b[0m\n",
            "\u001b[0;32m<ipython-input-7-572aa1256421>\u001b[0m in \u001b[0;36mreadImages\u001b[0;34m(csvPath)\u001b[0m\n\u001b[1;32m     16\u001b[0m     \u001b[0mroi\u001b[0m \u001b[0;34m=\u001b[0m \u001b[0;34m[\u001b[0m\u001b[0;34m]\u001b[0m\u001b[0;34m\u001b[0m\u001b[0;34m\u001b[0m\u001b[0m\n\u001b[1;32m     17\u001b[0m     \u001b[0mmax_shape\u001b[0m \u001b[0;34m=\u001b[0m \u001b[0;34m[\u001b[0m\u001b[0;36m0\u001b[0m\u001b[0;34m,\u001b[0m \u001b[0;36m0\u001b[0m\u001b[0;34m]\u001b[0m\u001b[0;34m\u001b[0m\u001b[0;34m\u001b[0m\u001b[0m\n\u001b[0;32m---> 18\u001b[0;31m     \u001b[0;32mwith\u001b[0m \u001b[0mopen\u001b[0m\u001b[0;34m(\u001b[0m\u001b[0mcsvPath\u001b[0m\u001b[0;34m)\u001b[0m \u001b[0;32mas\u001b[0m \u001b[0mcsv_file\u001b[0m\u001b[0;34m:\u001b[0m\u001b[0;34m\u001b[0m\u001b[0;34m\u001b[0m\u001b[0m\n\u001b[0m\u001b[1;32m     19\u001b[0m         \u001b[0mcsv_reader\u001b[0m \u001b[0;34m=\u001b[0m \u001b[0mcsv\u001b[0m\u001b[0;34m.\u001b[0m\u001b[0mreader\u001b[0m\u001b[0;34m(\u001b[0m\u001b[0mcsv_file\u001b[0m\u001b[0;34m,\u001b[0m \u001b[0mdelimiter\u001b[0m\u001b[0;34m=\u001b[0m\u001b[0;34m';'\u001b[0m\u001b[0;34m)\u001b[0m\u001b[0;34m\u001b[0m\u001b[0;34m\u001b[0m\u001b[0m\n\u001b[1;32m     20\u001b[0m         \u001b[0mline_count\u001b[0m \u001b[0;34m=\u001b[0m \u001b[0;36m0\u001b[0m\u001b[0;34m\u001b[0m\u001b[0;34m\u001b[0m\u001b[0m\n",
            "\u001b[0;31mFileNotFoundError\u001b[0m: [Errno 2] No such file or directory: 'Rawdata_values.csv'"
          ]
        }
      ],
      "source": [
        "\n",
        "from sklearn import datasets\n",
        "from sklearn.model_selection import train_test_split\n",
        "from sklearn.tree import DecisionTreeClassifier\n",
        "from sklearn.metrics import accuracy_score\n",
        "import csv\n",
        "import cv2 as cv\n",
        "import numpy as np\n",
        "from pathlib import Path\n",
        "import sys\n",
        "\n",
        "from pymage_size import get_image_size\n",
        "\n",
        "def readImages(csvPath):\n",
        "\n",
        "    filenames = []\n",
        "    roi = []\n",
        "    max_shape = [0, 0]\n",
        "    with open(csvPath) as csv_file:\n",
        "        csv_reader = csv.reader(csv_file, delimiter=';')\n",
        "        line_count = 0\n",
        "        for row in csv_reader:\n",
        "            if line_count == 0:\n",
        "                print(f'Column names are {\", \".join(row)}')\n",
        "                line_count += 1\n",
        "            else:\n",
        "                path = Path.cwd() / row[0]\n",
        "                filenames.append(str(path))\n",
        "                img_size = get_image_size(str(path)).get_dimensions()[::-1]\n",
        "                if img_size[0] > max_shape[0]:\n",
        "                    max_shape[0] = img_size[0]\n",
        "                if img_size[1] > max_shape[1]:\n",
        "                    max_shape[1] = img_size[1]\n",
        "\n",
        "                roi.append([float(row[1]), float(row[2]), float(row[3])])\n",
        "\n",
        "    y = np.zeros((len(filenames), 3), float)\n",
        "    images = np.zeros((len(filenames), max_shape[0], max_shape[1],3), dtype=np.uint8)\n",
        "    for i, filepath in enumerate(filenames):\n",
        "        img = cv.imread(str(filepath))\n",
        "\n",
        "        img_pad = paddImage(img, max_shape)\n",
        "\n",
        "        images[i] = img_pad\n",
        "        y[i] = np.array(roi[i])\n",
        "\n",
        "    return images, y\n",
        "\n",
        "images, y = readImages(r\"Rawdata_values.csv\")\n",
        "imagesClean = images\n",
        "val_images = imagesClean[-5:]\n",
        "\n",
        "\n",
        "imagesClean = imagesClean[:-5]\n",
        "\n",
        "\n",
        "yClean = y  / (10**5) #Scale\n",
        "\n",
        "val_labels = yClean[-5:]\n",
        "\n",
        "yClean = yClean[:-5]\n",
        "\n"
      ]
    },
    {
      "cell_type": "markdown",
      "metadata": {
        "id": "ANsdB5-NJFoI"
      },
      "source": [
        "Laster ned enda en pakke."
      ]
    },
    {
      "cell_type": "code",
      "execution_count": null,
      "metadata": {
        "id": "NUuXntjLgSR1"
      },
      "outputs": [],
      "source": [
        "pip install datasets"
      ]
    },
    {
      "cell_type": "markdown",
      "metadata": {
        "id": "CSQzuByyJMs_"
      },
      "source": [
        "Laster inn Julie sine augmenterte bilder og legger de sammen med de originale som ikke er augmentert."
      ]
    },
    {
      "cell_type": "code",
      "execution_count": null,
      "metadata": {
        "id": "UfF8BhmojUJ3"
      },
      "outputs": [],
      "source": [
        "X_train, X_test, y_train, y_test = train_test_split(imagesClean, yClean, test_size=0.2, random_state=42)\n",
        "imagesAugJulie, yAugJulie = readImages(r\"data.csv\")\n",
        "yAugJulie = yAugJulie / (10**5)\n",
        "\n",
        "\n",
        "X_train = np.concatenate((X_train,imagesAugJulie)) #add all new augmented imgages from Julies augmenter to a new array.\n",
        "y_train = np.concatenate((y_train,yAugJulie))\n",
        "\n",
        "print(len(X_train))\n",
        "print(len(y_train))"
      ]
    },
    {
      "cell_type": "markdown",
      "metadata": {
        "id": "u3BEGAO9Oq7K"
      },
      "source": [
        "# Preprosessering av bildene for å kunne putte de inn i VGG16"
      ]
    },
    {
      "cell_type": "markdown",
      "metadata": {
        "id": "cAvhfrYAJWgj"
      },
      "source": [
        "Det som skjer her er at vi gjør dataene klare først for preprosesseringsfunksjonen \"preprocess_input\" og der sentreres alle bildene rundt 0 og så byttes fargekoding fra RGB til BGR. Vi deler også bildene i trening og test på std deviation så de er standardisert. Vi har også batching her. Vi sier at ett bilde går inn i CNNen av gangen. Da har vi en batch size lik 1."
      ]
    },
    {
      "cell_type": "code",
      "execution_count": null,
      "metadata": {
        "id": "xWfCVvu6gnTL"
      },
      "outputs": [],
      "source": [
        "# Converting it to 'float32'\n",
        "X_train = X_train.astype('float32')\n",
        "\n",
        "# Convert the Numpy array to a TensorFlow tensor\n",
        "X_train = tf.convert_to_tensor(X_train)\n",
        "\n",
        "\n",
        "# Converting it to 'float32'\n",
        "X_test = X_test.astype('float32')\n",
        "\n",
        "# Convert the Numpy array to a TensorFlow tensor\n",
        "X_test = tf.convert_to_tensor(X_test)\n",
        "\n",
        "\n",
        "\n",
        "X_train = tf.keras.applications.vgg16.preprocess_input(X_train) / np.std(X_train)\n",
        "X_test = tf.keras.applications.vgg16.preprocess_input(X_test) / np.std(X_test)\n",
        "\n",
        "train_dataset = tf.data.Dataset.from_tensor_slices((X_train, y_train))\n",
        "test_dataset = tf.data.Dataset.from_tensor_slices((X_test, y_test))\n",
        "train_dataset = train_dataset.batch(1)\n",
        "test_dataset = test_dataset.batch(1)\n",
        "\n"
      ]
    },
    {
      "cell_type": "markdown",
      "metadata": {
        "id": "wwfaMQhJPGMw"
      },
      "source": [
        "\n",
        "# Lager VGG16-modellen her."
      ]
    },
    {
      "cell_type": "markdown",
      "metadata": {
        "id": "lF_2y673Jkkw"
      },
      "source": [
        "Her setter vi opp earlystopping med checkpoints. Sånn at når vi forbedrer modellen vår under trening  så lagres vektene og når vi ikke forbedrer modellen vår under trening så lagres ikke de vektene men vi beholder de gamle i checkpointet. Vi sier også at hva som vurderes som beste modell er den som har lavest \"loss\" på testdataene. Vi har en patience på 10 som betyr at om den ikke forbedres etter 10 nye treningsepoker så gir vi oss med treningen og bruker forrige checkpoint som vår beste modell. De er lagret allerede i filen vi spesifiserte her inne i TTT23Prosjekt-mappen på google drive."
      ]
    },
    {
      "cell_type": "code",
      "execution_count": null,
      "metadata": {
        "id": "vqLQs5cnBZk1"
      },
      "outputs": [],
      "source": [
        "# ModelCheckpoint callback - save best weights\n",
        "tl_checkpoint_1 = ModelCheckpoint(filepath='tl_model_v1.weights.best_Test1.hdf5',\n",
        "                                  save_best_only=True,\n",
        "                                  verbose=1)\n",
        "\n",
        "# EarlyStopping, patience is set to 10 to make sure the model can improve with such a high dropout rate.\n",
        "#The earlystopping is here based on finding the minimum validation loss.\n",
        "early_stop = EarlyStopping(monitor='val_loss',\n",
        "                           patience=10,\n",
        "                           restore_best_weights=True,\n",
        "                           mode='min')"
      ]
    },
    {
      "cell_type": "markdown",
      "metadata": {
        "id": "GTNrYK9_J2ku"
      },
      "source": [
        "Her lager vi en instans av VGG16. Vi definerer at vi skal fine-tune de 3 siste  layerene av nettverket. Fine-tuning betyr at vi trener kun de layersene vi spesifisierer (dvs de 3 siste i nettverket her), mens alle de andre trenes ikke.\n",
        "De andre layersene får vekter fra trening gjort på datasettet \"imagenet\". Så vi har nå 3 layers som vi skal trene til å få nye vekter og så har vi mange andre som vi ikke rører som har vekter fra før gjennom trening på imagenet. Dette kalles for **transfer learning**. Vi overfører noe av den læringen andre har stått for men så må vi fine tune litt for vårt datasett og vår bruk. Dere kjørte på 3 layers fordi det ga best resultat. Trener man for mange layers blir det veldig computationally demanding (krever mye datakraft) og det kan hende det blir dårlig presisjon på modellen siden datasettet er så lite. Tar man derimot og trener for få layers så kan det hende nettverket ikke klarer å lære noe særlig av datasettet og ikke blir noe bedre enn om du bare hentet inn alle vektene dine fra imagenet.\n",
        "\n",
        "I tillegg lager vi en hjemmelaget ende på VGG16 som består noen ulike komponenter. I denne hjemmelagde enden er et flatten layer som tar 2D arrays og gjør om til 1D arrays. Så matrisen blir da flat - ergo flatten. Videre har vi et dropout layer så det skrur av 40% av koblingene mot det forrige layeret randomly per bilde sånn at vi ikke overfitter. I tillegg har vi to dense layers. Det ene er stort for å ta inn all informasjon beregnet fra nettverket. Et dense layer er bare et flatt layer som inneholder N antall noder som gjør en matematisk operasjon på dataene våre. Så det er bare en propagering av masse info fra CNN'en kort sagt. Deretter har vi et siste dense layer som har 3 outputs. En for hver ROI verdi. Da kan CNNen outputte en prediction for hver enkelt ROI-verdi.\n",
        "\n",
        "Videre i denne kodeblokken bestemmer vi at vi starter med en viss learning rate - hvor fort nettverket skal lære nye ting fra bildene. Vi definerer også at den skal eksponensielt falle nedover ettersom treningen foregår.\n",
        "\n",
        "Vi har også bestemt at vi bruker en optimizer kalt Adam. Det er ikke så farlig å forstå hvordan den funker, men den gjør læringen enda bedre.\n",
        "\n",
        "Helt til slutt sier vi at vi har loss function mean square error. Det er altså dette som nettverket bruker til å finne ut hvor bra den gjør det når den trener, og det er det vi bruker til å finne ut om vi skal gi oss med treningen når ting ikke går fremover. Vi har også lagt inn at vi ønsker å følge med på mean absolute error mellom predicted roi-verdier og de faktiske test-roi-verdiene"
      ]
    },
    {
      "cell_type": "code",
      "execution_count": null,
      "metadata": {
        "id": "u1cOd9I1LgYz"
      },
      "outputs": [],
      "source": [
        "\n",
        "fine_tune = 3\n",
        "conv_base = VGG16(include_top=False,\n",
        "                      weights='imagenet',\n",
        "                      input_shape=(357, 229, 3))\n",
        " # The fine_tune param determines how many layers will be freezed from bottom and up\n",
        "if fine_tune > 0:\n",
        "  for layer in conv_base.layers[:-fine_tune]:\n",
        "    layer.trainable = False\n",
        "else:\n",
        "  for layer in conv_base.layers:\n",
        "    layer.trainable = False\n",
        "\n",
        "# Create a new 'top' of the model (i.e. fully-connected layers) for the classification after feature extraction.\n",
        "# This is 'bootstrapping' a new top_model onto the pretrained layers.\n",
        "top_model = conv_base.output\n",
        "top_model = Flatten(name=\"flatten\")(top_model)\n",
        "top_model = Dropout(0.4)(top_model)\n",
        "top_model = Dense(4096, activation='relu')(top_model)\n",
        "output_layer = Dense(3, activation='relu')(top_model)\n",
        "\n",
        "lr_schedule = tf.keras.optimizers.schedules.ExponentialDecay(\n",
        "    initial_learning_rate=0.00007,\n",
        "    decay_steps=100000,\n",
        "    decay_rate=0.00003)\n",
        "\n",
        "\n",
        "optim_1 = Adam(lr_schedule)\n",
        "\n",
        "# Group the convolutional base and new fully-connected layers into a Model object.\n",
        "model = Model(inputs=conv_base.input, outputs=output_layer)\n",
        "model.compile(optimizer = optim_1, loss = tf.keras.losses.MeanSquaredError(), metrics=['mean_absolute_error'])\n",
        "model.summary( )\n",
        "\n",
        "vgg_epochs = 200"
      ]
    },
    {
      "cell_type": "markdown",
      "metadata": {
        "id": "q1fGcxNrOGsJ"
      },
      "source": [
        "\n",
        "\n",
        "\n",
        "# Innlasting av vektene i VGG16 fra fil om man ønsker det"
      ]
    },
    {
      "cell_type": "markdown",
      "metadata": {
        "id": "zTDvUR4IN9JC"
      },
      "source": [
        "Hvis du ønsker kan du kjøre denne. Da laster du inn vektene fra fil fremfor å trene."
      ]
    },
    {
      "cell_type": "code",
      "execution_count": null,
      "metadata": {
        "id": "D4pd_x5_2Uvt"
      },
      "outputs": [],
      "source": [
        "# Loads the weights\n",
        "model.load_weights('tl_model_v1.weights.best-3.hdf5')"
      ]
    },
    {
      "cell_type": "markdown",
      "metadata": {
        "id": "jT89nNmGMFUr"
      },
      "source": [
        "Preprosessering av validationsettet så de kan kjøres gjennom VGG16 på en god måte."
      ]
    },
    {
      "cell_type": "code",
      "execution_count": null,
      "metadata": {
        "id": "qz8I0EVL3BjY"
      },
      "outputs": [],
      "source": [
        "# Converting it to 'float32'\n",
        "val_images = val_images.astype('float32')\n",
        "\n",
        "val_images = tf.convert_to_tensor(val_images)\n",
        "\n",
        "val_images = tf.keras.applications.vgg16.preprocess_input(val_images) / np.std(val_images)\n"
      ]
    },
    {
      "cell_type": "markdown",
      "metadata": {
        "id": "mKZPnazCMKHs"
      },
      "source": [
        "Her predicter vi ved å sende alle 5 bildene i valideringssettet vårt gjennom modellen. Så sammenligner vi de med de faktiske roi-verdiene."
      ]
    },
    {
      "cell_type": "code",
      "execution_count": null,
      "metadata": {
        "id": "Eu78avve2YSC"
      },
      "outputs": [],
      "source": [
        "\n",
        "predsOnVal = model.predict(val_images)\n",
        "print(predsOnVal)\n",
        "print(val_labels)\n",
        "\n"
      ]
    },
    {
      "cell_type": "markdown",
      "metadata": {
        "id": "aATUuxXmMRd9"
      },
      "source": [
        "Vi regner den totale RMSE på alle de 5 predictionsene totalt."
      ]
    },
    {
      "cell_type": "code",
      "execution_count": null,
      "metadata": {
        "id": "D_gvi44u3H-q"
      },
      "outputs": [],
      "source": [
        "#RMSE\n",
        "print(np.sqrt(np.mean((np.array(val_labels)-np.array(predsOnVal))**2)))"
      ]
    },
    {
      "cell_type": "markdown",
      "metadata": {
        "id": "C7VE0faCMWHF"
      },
      "source": [
        "Vi regner den totale MSE på alle de 5 predictionsene totalt."
      ]
    },
    {
      "cell_type": "code",
      "execution_count": null,
      "metadata": {
        "id": "L7L2cPVd3vS4"
      },
      "outputs": [],
      "source": [
        "#MSE\n",
        "print(np.mean((np.array(val_labels)-np.array(predsOnVal))**2))"
      ]
    },
    {
      "cell_type": "code",
      "execution_count": null,
      "metadata": {
        "id": "q8uR3RlLYUmg"
      },
      "outputs": [],
      "source": [
        "#MAE\n",
        "print(np.mean(np.abs(np.array(val_labels) - np.array(predsOnVal))))"
      ]
    },
    {
      "cell_type": "markdown",
      "metadata": {
        "id": "ccR9FLkD8Rxz"
      },
      "source": [
        "---\n",
        "**Stopp her**\n",
        "\n",
        "---\n",
        "\n"
      ]
    },
    {
      "cell_type": "markdown",
      "metadata": {
        "id": "gSjOa7hUOU53"
      },
      "source": [
        "# Trening av nettverket om man heller vil det"
      ]
    },
    {
      "cell_type": "markdown",
      "metadata": {
        "id": "Rk5CBYLwMXlV"
      },
      "source": [
        "Vi trener her. Vi kjører model.fit på treningsdataene i et visst antall epoker. (dvs alle treningsdataene går gjennom nettverket i en epoke) Videre sier vi hva som er vårt testset og at vi har earlystopping med checkpoints i callbacks-parameteren. Vi har også verbose 1 fordi da skrives progress ut her så vi kan lese hvordan det går. I tillegg har vi .history for da lagrer vi historien i en variabel."
      ]
    },
    {
      "cell_type": "code",
      "execution_count": null,
      "metadata": {
        "colab": {
          "base_uri": "https://localhost:8080/"
        },
        "id": "au0jOIAqB7El",
        "outputId": "ef16c784-5fb5-43a3-924c-8a125a83f40d"
      },
      "outputs": [
        {
          "name": "stdout",
          "output_type": "stream",
          "text": [
            "Epoch 1/200\n",
            "71/71 [==============================] - ETA: 0s - loss: 1116.3671 - mean_absolute_error: 14.0260\n",
            "Epoch 1: val_loss improved from inf to 6065.78711, saving model to tl_model_v1.weights.best_Test1.hdf5\n",
            "71/71 [==============================] - 368s 5s/step - loss: 1116.3671 - mean_absolute_error: 14.0260 - val_loss: 6065.7871 - val_mean_absolute_error: 36.5706\n",
            "Epoch 2/200\n",
            "71/71 [==============================] - ETA: 0s - loss: 788.1993 - mean_absolute_error: 11.6667\n",
            "Epoch 2: val_loss improved from 6065.78711 to 3850.39062, saving model to tl_model_v1.weights.best_Test1.hdf5\n",
            "71/71 [==============================] - 329s 5s/step - loss: 788.1993 - mean_absolute_error: 11.6667 - val_loss: 3850.3906 - val_mean_absolute_error: 29.7476\n",
            "Epoch 3/200\n",
            "71/71 [==============================] - ETA: 0s - loss: 429.2563 - mean_absolute_error: 11.7417\n",
            "Epoch 3: val_loss improved from 3850.39062 to 3329.53174, saving model to tl_model_v1.weights.best_Test1.hdf5\n",
            "71/71 [==============================] - 300s 4s/step - loss: 429.2563 - mean_absolute_error: 11.7417 - val_loss: 3329.5317 - val_mean_absolute_error: 29.7465\n",
            "Epoch 4/200\n",
            "71/71 [==============================] - ETA: 0s - loss: 311.9597 - mean_absolute_error: 11.0655\n",
            "Epoch 4: val_loss improved from 3329.53174 to 2435.91748, saving model to tl_model_v1.weights.best_Test1.hdf5\n",
            "71/71 [==============================] - 328s 5s/step - loss: 311.9597 - mean_absolute_error: 11.0655 - val_loss: 2435.9175 - val_mean_absolute_error: 24.9460\n",
            "Epoch 5/200\n",
            "71/71 [==============================] - ETA: 0s - loss: 206.3031 - mean_absolute_error: 8.7309\n",
            "Epoch 5: val_loss improved from 2435.91748 to 1175.35828, saving model to tl_model_v1.weights.best_Test1.hdf5\n",
            "71/71 [==============================] - 313s 4s/step - loss: 206.3031 - mean_absolute_error: 8.7309 - val_loss: 1175.3583 - val_mean_absolute_error: 20.0346\n",
            "Epoch 6/200\n",
            "71/71 [==============================] - ETA: 0s - loss: 305.1288 - mean_absolute_error: 9.1079\n",
            "Epoch 6: val_loss improved from 1175.35828 to 832.12000, saving model to tl_model_v1.weights.best_Test1.hdf5\n",
            "71/71 [==============================] - 325s 5s/step - loss: 305.1288 - mean_absolute_error: 9.1079 - val_loss: 832.1200 - val_mean_absolute_error: 16.2261\n",
            "Epoch 7/200\n",
            "71/71 [==============================] - ETA: 0s - loss: 125.2024 - mean_absolute_error: 6.8441\n",
            "Epoch 7: val_loss did not improve from 832.12000\n",
            "71/71 [==============================] - 283s 4s/step - loss: 125.2024 - mean_absolute_error: 6.8441 - val_loss: 1366.7770 - val_mean_absolute_error: 20.2684\n",
            "Epoch 8/200\n",
            "71/71 [==============================] - ETA: 0s - loss: 352.2801 - mean_absolute_error: 9.8019\n",
            "Epoch 8: val_loss did not improve from 832.12000\n",
            "71/71 [==============================] - 302s 4s/step - loss: 352.2801 - mean_absolute_error: 9.8019 - val_loss: 4835.1182 - val_mean_absolute_error: 31.8378\n",
            "Epoch 9/200\n",
            "71/71 [==============================] - ETA: 0s - loss: 618.9880 - mean_absolute_error: 8.5021\n",
            "Epoch 9: val_loss improved from 832.12000 to 600.04315, saving model to tl_model_v1.weights.best_Test1.hdf5\n",
            "71/71 [==============================] - 309s 4s/step - loss: 618.9880 - mean_absolute_error: 8.5021 - val_loss: 600.0432 - val_mean_absolute_error: 14.8475\n",
            "Epoch 10/200\n",
            "71/71 [==============================] - ETA: 0s - loss: 163.4641 - mean_absolute_error: 6.4714\n",
            "Epoch 10: val_loss improved from 600.04315 to 199.91783, saving model to tl_model_v1.weights.best_Test1.hdf5\n",
            "71/71 [==============================] - 315s 4s/step - loss: 163.4641 - mean_absolute_error: 6.4714 - val_loss: 199.9178 - val_mean_absolute_error: 9.8688\n",
            "Epoch 11/200\n",
            "71/71 [==============================] - ETA: 0s - loss: 58.3959 - mean_absolute_error: 4.6906\n",
            "Epoch 11: val_loss did not improve from 199.91783\n",
            "71/71 [==============================] - 296s 4s/step - loss: 58.3959 - mean_absolute_error: 4.6906 - val_loss: 427.2282 - val_mean_absolute_error: 13.9561\n",
            "Epoch 12/200\n",
            "71/71 [==============================] - ETA: 0s - loss: 53.6289 - mean_absolute_error: 5.5572\n",
            "Epoch 12: val_loss did not improve from 199.91783\n",
            "71/71 [==============================] - 288s 4s/step - loss: 53.6289 - mean_absolute_error: 5.5572 - val_loss: 254.7868 - val_mean_absolute_error: 11.6086\n",
            "Epoch 13/200\n",
            "71/71 [==============================] - ETA: 0s - loss: 64.7173 - mean_absolute_error: 4.7369\n",
            "Epoch 13: val_loss did not improve from 199.91783\n",
            "71/71 [==============================] - 294s 4s/step - loss: 64.7173 - mean_absolute_error: 4.7369 - val_loss: 1337.5828 - val_mean_absolute_error: 20.5602\n",
            "Epoch 14/200\n",
            "71/71 [==============================] - ETA: 0s - loss: 112.7236 - mean_absolute_error: 5.3991\n",
            "Epoch 14: val_loss did not improve from 199.91783\n",
            "71/71 [==============================] - 288s 4s/step - loss: 112.7236 - mean_absolute_error: 5.3991 - val_loss: 291.2890 - val_mean_absolute_error: 11.4408\n",
            "Epoch 15/200\n",
            "71/71 [==============================] - ETA: 0s - loss: 59.2463 - mean_absolute_error: 3.8201\n",
            "Epoch 15: val_loss did not improve from 199.91783\n",
            "71/71 [==============================] - 294s 4s/step - loss: 59.2463 - mean_absolute_error: 3.8201 - val_loss: 1420.4821 - val_mean_absolute_error: 19.8575\n",
            "Epoch 16/200\n",
            "71/71 [==============================] - ETA: 0s - loss: 86.4361 - mean_absolute_error: 4.8085\n",
            "Epoch 16: val_loss did not improve from 199.91783\n",
            "71/71 [==============================] - 283s 4s/step - loss: 86.4361 - mean_absolute_error: 4.8085 - val_loss: 419.5490 - val_mean_absolute_error: 12.3318\n",
            "Epoch 17/200\n",
            "71/71 [==============================] - ETA: 0s - loss: 73.5371 - mean_absolute_error: 4.5216\n",
            "Epoch 17: val_loss did not improve from 199.91783\n",
            "71/71 [==============================] - 295s 4s/step - loss: 73.5371 - mean_absolute_error: 4.5216 - val_loss: 2011.3857 - val_mean_absolute_error: 22.0817\n",
            "Epoch 18/200\n",
            "71/71 [==============================] - ETA: 0s - loss: 172.0993 - mean_absolute_error: 5.7383\n",
            "Epoch 18: val_loss did not improve from 199.91783\n",
            "71/71 [==============================] - 291s 4s/step - loss: 172.0993 - mean_absolute_error: 5.7383 - val_loss: 261.6404 - val_mean_absolute_error: 9.4227\n",
            "Epoch 19/200\n",
            "71/71 [==============================] - ETA: 0s - loss: 89.3749 - mean_absolute_error: 4.7668\n",
            "Epoch 19: val_loss did not improve from 199.91783\n",
            "71/71 [==============================] - 289s 4s/step - loss: 89.3749 - mean_absolute_error: 4.7668 - val_loss: 2190.0308 - val_mean_absolute_error: 22.7594\n",
            "Epoch 20/200\n",
            "71/71 [==============================] - ETA: 0s - loss: 173.4490 - mean_absolute_error: 4.8570\n",
            "Epoch 20: val_loss did not improve from 199.91783\n",
            "71/71 [==============================] - 293s 4s/step - loss: 173.4490 - mean_absolute_error: 4.8570 - val_loss: 405.8800 - val_mean_absolute_error: 11.4997\n"
          ]
        }
      ],
      "source": [
        "\n",
        "#Fit the model with all the defined parameters and on the augmented dataset.\n",
        "vgg_history_transfer = model.fit(train_dataset,\n",
        "                            #batch_size=1,\n",
        "                            epochs=vgg_epochs,\n",
        "                            validation_data=test_dataset,\n",
        "                            callbacks=[tl_checkpoint_1, early_stop],\n",
        "                            verbose=1).history"
      ]
    },
    {
      "cell_type": "markdown",
      "metadata": {
        "id": "fyZ5OryVMwOr"
      },
      "source": [
        "Om du kjører denne snutten så lagrer du modellen med alle vektene. Du trenger ikke kjøre denne om du har lagret vektene dine gjennom earlystopping."
      ]
    },
    {
      "cell_type": "code",
      "execution_count": null,
      "metadata": {
        "id": "oph0-U0bBlnQ"
      },
      "outputs": [],
      "source": [
        "model.save(\"content/savedmodels/vggFinetuned3_standardized\") #Save the model for use on the test set."
      ]
    },
    {
      "cell_type": "markdown",
      "metadata": {
        "id": "b5MbVtwGM-hO"
      },
      "source": [
        "Plotting av loss om du ønsker"
      ]
    },
    {
      "cell_type": "code",
      "execution_count": null,
      "metadata": {
        "colab": {
          "base_uri": "https://localhost:8080/",
          "height": 487
        },
        "id": "46TP1zIfBvpB",
        "outputId": "ba016091-b92c-4ee0-a6ad-c58aa6394006"
      },
      "outputs": [
        {
          "data": {
            "image/png": "[encoded data removed]",
            "text/plain": [
              "<Figure size 1500x500 with 1 Axes>"
            ]
          },
          "metadata": {},
          "output_type": "display_data"
        }
      ],
      "source": [
        "#plots of the loss evolving for each epoch\n",
        "plt.figure(figsize=(15,5))\n",
        "plt.plot(vgg_history_transfer['loss'], label='Training', alpha=.3, color='#ff7f0e', linestyle='--')\n",
        "plt.plot(vgg_history_transfer['val_loss'], label='Validation', alpha=.8, color='#ff7f0e')\n",
        "plt.legend(loc='upper left')\n",
        "plt.xlabel('Epoch')\n",
        "plt.title('Mean square error')\n",
        "plt.grid(alpha=.3)\n",
        "\n",
        "\n",
        "plt.show()"
      ]
    },
    {
      "cell_type": "markdown",
      "metadata": {
        "id": "bYLsHQi8NAU7"
      },
      "source": [
        "Dette er samme som før når vi hadde model.predict bare at i stad var det lagt høyere opp fordi vi loadet inn vektene fra en fil fremfor her hvor vi har trent modellen i colaben."
      ]
    },
    {
      "cell_type": "code",
      "execution_count": null,
      "metadata": {
        "id": "bflU8dyNWE5x"
      },
      "outputs": [],
      "source": [
        "# Converting it to 'float32'\n",
        "val_images = val_images.astype('float32')\n",
        "\n",
        "val_images = tf.convert_to_tensor(val_images)\n",
        "\n",
        "val_images = tf.keras.applications.vgg16.preprocess_input(val_images) / np.std(val_images)"
      ]
    },
    {
      "cell_type": "code",
      "execution_count": null,
      "metadata": {
        "colab": {
          "base_uri": "https://localhost:8080/"
        },
        "id": "Hzvfb1500PKI",
        "outputId": "95a8e086-4cb5-4f51-be5a-d22e1d45512d"
      },
      "outputs": [
        {
          "name": "stdout",
          "output_type": "stream",
          "text": [
            "1/1 [==============================] - 13s 13s/step\n",
            "[[31.426466  23.016878   7.794613 ]\n",
            " [18.291819   8.720162   1.8866491]\n",
            " [23.36303    6.3693595  2.0912695]\n",
            " [26.260836  11.576278   4.257177 ]\n",
            " [53.48144   22.45726   13.327297 ]]\n",
            "[[25.03  20.05   6.308]\n",
            " [15.85   7.269  3.223]\n",
            " [19.91   4.986  1.576]\n",
            " [23.85   9.776  2.595]\n",
            " [20.75  10.2    2.225]]\n"
          ]
        }
      ],
      "source": [
        "predsOnVal = model.predict(val_images)\n",
        "print(predsOnVal)\n",
        "print(val_labels)"
      ]
    },
    {
      "cell_type": "code",
      "execution_count": null,
      "metadata": {
        "colab": {
          "base_uri": "https://localhost:8080/"
        },
        "id": "UBE2eOo1WA7_",
        "outputId": "7f3b7cda-ea64-44ab-f4b2-0af44d4614e1"
      },
      "outputs": [
        {
          "name": "stdout",
          "output_type": "stream",
          "text": [
            "9.772575900201677\n"
          ]
        }
      ],
      "source": [
        "#RMSE\n",
        "print(np.sqrt(np.mean((np.array(val_labels)-np.array(predsOnVal))**2)))"
      ]
    },
    {
      "cell_type": "code",
      "execution_count": null,
      "metadata": {
        "colab": {
          "base_uri": "https://localhost:8080/"
        },
        "id": "deE1F2-pWIHk",
        "outputId": "a3ad4ece-6489-4f0f-dcb9-08cd59f8dc7a"
      },
      "outputs": [
        {
          "name": "stdout",
          "output_type": "stream",
          "text": [
            "95.5032397252026\n"
          ]
        }
      ],
      "source": [
        "#MSE\n",
        "print(np.mean((np.array(val_labels)-np.array(predsOnVal))**2))"
      ]
    },
    {
      "cell_type": "code",
      "execution_count": null,
      "metadata": {
        "id": "9HmuFZkjWJrr"
      },
      "outputs": [],
      "source": []
    }
  ],
  "metadata": {
    "colab": {
      "collapsed_sections": [
        "j_RhvLlxPiVa",
        "YYsfho88OfR6",
        "veeot-S9OkKB",
        "u3BEGAO9Oq7K",
        "q1fGcxNrOGsJ",
        "gSjOa7hUOU53"
      ],
      "provenance": []
    },
    "kernelspec": {
      "display_name": "Python 3",
      "name": "python3"
    },
    "language_info": {
      "name": "python"
    }
  },
  "nbformat": 4,
  "nbformat_minor": 0
}